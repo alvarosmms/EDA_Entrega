{
 "cells": [
  {
   "cell_type": "markdown",
   "metadata": {},
   "source": [
    "# Plan de acción\n",
    "\n",
    "## Preprocesamiento y limpieza de datos:\n",
    "- Transformaciones y manejo de valores faltantes.\n",
    "- Eliminación de duplicados y ajustes en los formatos de las columnas.\n",
    "\n",
    "## EDA detallado:\n",
    "- **Análisis univariante**: distribución y frecuencias.\n",
    "- **Análisis bivariante**: relaciones entre variables clave.\n",
    "- **Análisis multivariante**: correlaciones y visualizaciones avanzadas.\n",
    "\n",
    "## Conclusiones:\n",
    "- Contrastar hipótesis.\n",
    "- Identificar oportunidades de mejora.\n",
    "\n",
    "## Preparación de la presentación y dashboard:\n",
    "- Gráficos y resultados clave.\n",
    "- Exportación de datos limpios y visualizaciones.\n"
   ]
  }
 ],
 "metadata": {
  "language_info": {
   "name": "python"
  }
 },
 "nbformat": 4,
 "nbformat_minor": 2
}
